{
 "cells": [
  {
   "attachments": {},
   "cell_type": "markdown",
   "metadata": {},
   "source": [
    "# ASSIGNMENT"
   ]
  },
  {
   "attachments": {},
   "cell_type": "markdown",
   "metadata": {},
   "source": [
    "Q1. Create a function which will take a list as an argument and return the product of all the numbers\n",
    "after creating a flat list.\n",
    "Use the below-given list as an argument for your function.\n",
    "list1 = [1,2,3,4, [44,55,66, True], False, (34,56,78,89,34), {1,2,3,3,2,1}, {1:34, \"key2\": [55, 67, 78, 89], 4: (45,\n",
    "22, 61, 34)}, [56, 'data science'], 'Machine Learning']\n",
    "Note: you must extract numeric keys and values of the dictionary also."
   ]
  },
  {
   "cell_type": "code",
   "execution_count": 1,
   "metadata": {},
   "outputs": [
    {
     "name": "stdout",
     "output_type": "stream",
     "text": [
      "The product of all numbers in the list is: 0\n"
     ]
    }
   ],
   "source": [
    "def calculate_product(lst):\n",
    "    flattened_list = []\n",
    "    for item in lst:\n",
    "        if isinstance(item, list):\n",
    "            flattened_list.extend(item)\n",
    "        elif isinstance(item, dict):\n",
    "            flattened_list.extend(item.values())\n",
    "            flattened_list.extend(item.keys())\n",
    "        else:\n",
    "            flattened_list.append(item)\n",
    "\n",
    "    product = 1\n",
    "    for item in flattened_list:\n",
    "        if isinstance(item, (int, float)):\n",
    "            product *= item\n",
    "\n",
    "    return product\n",
    "\n",
    "# Test the function with the given list\n",
    "list1 = [1, 2, 3, 4, [44, 55, 66, True], False, (34, 56, 78, 89, 34), {1, 2, 3, 3, 2, 1},\n",
    "         {1: 34, \"key2\": [55, 67, 78, 89], 4: (45, 22, 61, 34)}, [56, 'data science'], 'Machine Learning']\n",
    "\n",
    "result = calculate_product(list1)\n",
    "print(f\"The product of all numbers in the list is: {result}\")\n"
   ]
  },
  {
   "attachments": {},
   "cell_type": "markdown",
   "metadata": {},
   "source": [
    "Q2. Write a python program for encrypting a message sent to you by your friend. The logic of encryption\n",
    "should be such that, for a the output should be z. For b, the output should be y. For c, the output should\n",
    "be x respectively. Also, the whitespace should be replaced with a dollar sign. Keep the punctuation\n",
    "marks unchanged.\n",
    "Input Sentence: I want to become a Data Scientist.\n",
    "Encrypt the above input sentence using the program you just created.\n",
    "Note: Convert the given input sentence into lowercase before encrypting. The final output should be\n",
    "lowercase."
   ]
  },
  {
   "cell_type": "code",
   "execution_count": 2,
   "metadata": {},
   "outputs": [
    {
     "name": "stdout",
     "output_type": "stream",
     "text": [
      "Encrypted sentence: r$dzmg$gl$yvxlnv$z$wzgz$hxrvmgrhg.\n"
     ]
    }
   ],
   "source": [
    "def encrypt_message(message):\n",
    "    encrypted = \"\"\n",
    "    for char in message:\n",
    "        if char.isalpha():\n",
    "            encrypted_char = chr(ord('a') + (ord('z') - ord(char)))\n",
    "            encrypted += encrypted_char\n",
    "        elif char == ' ':\n",
    "            encrypted += '$'\n",
    "        else:\n",
    "            encrypted += char\n",
    "    return encrypted\n",
    "\n",
    "# Test the program with the given input sentence\n",
    "input_sentence = \"I want to become a Data Scientist.\"\n",
    "lowercase_sentence = input_sentence.lower()\n",
    "encrypted_sentence = encrypt_message(lowercase_sentence)\n",
    "\n",
    "print(\"Encrypted sentence:\", encrypted_sentence)\n"
   ]
  },
  {
   "attachments": {},
   "cell_type": "markdown",
   "metadata": {},
   "source": [
    "In this program, the function encrypt_message takes a message as input. It iterates through each character in the message. If the character is an alphabetic letter, it calculates the encrypted character by subtracting the ASCII value of the character from the ASCII value of 'z' and adding it to the ASCII value of 'a'. This logic ensures that 'a' is encrypted as 'z', 'b' as 'y', 'c' as 'x', and so on. If the character is a whitespace, it is replaced with a dollar sign ('$'). Punctuation marks and other characters are left unchanged. The encrypted message is then returned.\n",
    "\n",
    "In the main part of the program, the given input sentence is converted to lowercase using the lower() method before being passed to the encrypt_message function. The resulting encrypted sentence is printed as the output."
   ]
  },
  {
   "cell_type": "code",
   "execution_count": null,
   "metadata": {},
   "outputs": [],
   "source": []
  }
 ],
 "metadata": {
  "kernelspec": {
   "display_name": "base",
   "language": "python",
   "name": "python3"
  },
  "language_info": {
   "codemirror_mode": {
    "name": "ipython",
    "version": 3
   },
   "file_extension": ".py",
   "mimetype": "text/x-python",
   "name": "python",
   "nbconvert_exporter": "python",
   "pygments_lexer": "ipython3",
   "version": "3.10.9"
  },
  "orig_nbformat": 4
 },
 "nbformat": 4,
 "nbformat_minor": 2
}
