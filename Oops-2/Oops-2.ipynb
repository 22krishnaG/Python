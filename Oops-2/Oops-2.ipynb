{
 "cells": [
  {
   "attachments": {},
   "cell_type": "markdown",
   "metadata": {},
   "source": [
    "# ASSIGNMENT\n"
   ]
  },
  {
   "attachments": {},
   "cell_type": "markdown",
   "metadata": {},
   "source": [
    "Q1. What is Abstraction in OOps? Explain with an example.\n",
    "Ans:- Abstraction is one of the key principles of object-oriented programming (OOP) and refers to the process of hiding internal implementation details and exposing only essential features or behaviors to the outside world. It allows us to focus on what an object does rather than how it does it.\n",
    "\n",
    "In OOP, abstraction is achieved through the use of abstract classes and interfaces. An abstract class is a class that cannot be instantiated and is intended to be subclassed. It provides a common interface for its subclasses and may contain one or more abstract methods, which are declared but not implemented in the abstract class. The responsibility of implementing these abstract methods lies with the concrete subclasses.\n",
    "\n",
    "Here's an example to illustrate abstraction:"
   ]
  },
  {
   "cell_type": "code",
   "execution_count": 1,
   "metadata": {},
   "outputs": [
    {
     "name": "stdout",
     "output_type": "stream",
     "text": [
      "Woof!\n",
      "Meow!\n"
     ]
    }
   ],
   "source": [
    "from abc import ABC, abstractmethod\n",
    "\n",
    "class Animal(ABC):\n",
    "    @abstractmethod\n",
    "    def sound(self):\n",
    "        pass\n",
    "\n",
    "class Dog(Animal):\n",
    "    def sound(self):\n",
    "        return \"Woof!\"\n",
    "\n",
    "class Cat(Animal):\n",
    "    def sound(self):\n",
    "        return \"Meow!\"\n",
    "\n",
    "dog = Dog()\n",
    "cat = Cat()\n",
    "\n",
    "print(dog.sound())  # Output: Woof!\n",
    "print(cat.sound())  # Output: Meow!\n"
   ]
  },
  {
   "attachments": {},
   "cell_type": "markdown",
   "metadata": {},
   "source": [
    "In this example, the Animal class is an abstract class that defines an abstract method sound(). The sound() method is declared in the Animal class but does not provide any implementation. It is the responsibility of the concrete subclasses (Dog and Cat) to implement the sound() method.\n",
    "\n",
    "By using abstraction, we can define a common interface (sound()) for different types of animals without specifying how each animal makes a sound. The concrete subclasses (Dog and Cat) provide their specific implementations of the sound() method, representing the sound made by a dog and a cat, respectively.\n",
    "\n",
    "The advantage of abstraction is that it allows us to work at a higher level of abstraction by hiding the internal implementation details of the subclasses. We can interact with objects based on their common interface (in this case, the sound() method), without worrying about the specific implementation details of each object."
   ]
  },
  {
   "attachments": {},
   "cell_type": "markdown",
   "metadata": {},
   "source": [
    "Q2. Differentiate between Abstraction and Encapsulation. Explain with an example.\n",
    "\n",
    "Ans- Abstraction and encapsulation are two important concepts in object-oriented programming (OOP), but they serve different purposes. Let's differentiate between abstraction and encapsulation and explain each concept with an example:\n",
    "\n",
    "Abstraction:\n",
    "\n",
    "Abstraction is the process of hiding unnecessary details and exposing only essential features or behaviors.\n",
    "It focuses on what an object does rather than how it does it.\n",
    "Abstraction is achieved through abstract classes, interfaces, and abstract methods.\n",
    "It helps in managing complexity by breaking down a system into smaller, more manageable parts.\n",
    "Abstraction allows for code reusability and helps in designing flexible and maintainable software.\n",
    "Example of Abstraction:"
   ]
  },
  {
   "cell_type": "code",
   "execution_count": 2,
   "metadata": {},
   "outputs": [
    {
     "name": "stdout",
     "output_type": "stream",
     "text": [
      "Car started.\n",
      "Bike started.\n"
     ]
    }
   ],
   "source": [
    "from abc import ABC, abstractmethod\n",
    "\n",
    "class Vehicle(ABC):\n",
    "    @abstractmethod\n",
    "    def start(self):\n",
    "        pass\n",
    "\n",
    "    @abstractmethod\n",
    "    def stop(self):\n",
    "        pass\n",
    "\n",
    "class Car(Vehicle):\n",
    "    def start(self):\n",
    "        print(\"Car started.\")\n",
    "\n",
    "    def stop(self):\n",
    "        print(\"Car stopped.\")\n",
    "\n",
    "class Bike(Vehicle):\n",
    "    def start(self):\n",
    "        print(\"Bike started.\")\n",
    "\n",
    "    def stop(self):\n",
    "        print(\"Bike stopped.\")\n",
    "\n",
    "car = Car()\n",
    "bike = Bike()\n",
    "\n",
    "car.start()  # Output: Car started.\n",
    "bike.start()  # Output: Bike started.\n"
   ]
  },
  {
   "attachments": {},
   "cell_type": "markdown",
   "metadata": {},
   "source": [
    "In this example, the Vehicle class is an abstract class that defines two abstract methods: start() and stop(). The Car and Bike classes are concrete subclasses of the Vehicle class and provide their specific implementations for the abstract methods. The start() and stop() methods represent common behaviors of vehicles, but the specific implementation details of starting and stopping differ for cars and bikes.\n",
    "\n",
    "Encapsulation:\n",
    "\n",
    "Encapsulation is the process of bundling data and methods that operate on that data into a single unit, called a class.\n",
    "It involves the concept of access modifiers (public, private, protected) to control the access to the internal state of an object.\n",
    "Encapsulation provides data hiding and protects the internal state of an object from external interference.\n",
    "It enables the principle of information hiding, where the internal implementation details are hidden from other parts of the program.\n",
    "Example of Encapsulation:"
   ]
  },
  {
   "cell_type": "code",
   "execution_count": 3,
   "metadata": {},
   "outputs": [
    {
     "name": "stdout",
     "output_type": "stream",
     "text": [
      "John\n",
      "5000\n",
      "6000\n",
      "6000\n"
     ]
    }
   ],
   "source": [
    "class Employee:\n",
    "    def __init__(self, name, salary):\n",
    "        self.name = name\n",
    "        self.__salary = salary  # private variable\n",
    "\n",
    "    def get_salary(self):\n",
    "        return self.__salary\n",
    "\n",
    "    def set_salary(self, salary):\n",
    "        if salary > 0:\n",
    "            self.__salary = salary\n",
    "\n",
    "employee = Employee(\"John\", 5000)\n",
    "\n",
    "print(employee.name)  # Output: John\n",
    "print(employee.get_salary())  # Output: 5000\n",
    "\n",
    "employee.set_salary(6000)\n",
    "print(employee.get_salary())  # Output: 6000\n",
    "\n",
    "employee.__salary = -1000  # Attempt to directly access private variable (no effect)\n",
    "print(employee.get_salary())  # Output: 6000\n"
   ]
  },
  {
   "attachments": {},
   "cell_type": "markdown",
   "metadata": {},
   "source": [
    "In this example, the Employee class encapsulates the name and salary attributes along with getter and setter methods. The salary attribute is defined as a private variable using the naming convention of double underscores (__). The getter method get_salary() allows accessing the private variable, while the setter method set_salary() provides controlled access to modify the salary with validation.\n",
    "\n",
    "Encapsulation ensures that the internal state (salary) of an employee object can only be accessed and modified through the defined getter and setter methods. Direct access to the private variable __salary from outside the class is prevented.\n",
    "\n",
    "In summary, abstraction focuses on hiding unnecessary details and providing a high-level view, while encapsulation bundles data and methods together and provides controlled access to the internal state of an object. Both concepts play crucial roles in"
   ]
  },
  {
   "attachments": {},
   "cell_type": "markdown",
   "metadata": {},
   "source": [
    "Q3. What is abc module in python? Why is it used?\n",
    "\n",
    "Ans-The abc module in Python stands for \"Abstract Base Classes.\" It provides infrastructure for defining abstract base classes in Python.\n",
    "\n",
    "An abstract base class (ABC) is a class that cannot be instantiated and is meant to be subclassed by other classes. It serves as a blueprint for its subclasses, defining a common interface that subclasses must implement.\n",
    "\n",
    "The abc module in Python provides the ABC class and the abstractmethod decorator, which are used to create abstract base classes and abstract methods, respectively.\n",
    "\n",
    "The abc module is used for the following purposes:\n",
    "\n",
    "Defining Abstract Base Classes: The ABC class is used as a base class for creating abstract base classes. By inheriting from ABC, a class becomes an abstract base class, and it can define abstract methods that its subclasses must implement.\n",
    "\n",
    "Declaring Abstract Methods: The abstractmethod decorator is used to declare abstract methods within an abstract base class. An abstract method is a method that is declared but does not contain an implementation. It serves as a placeholder that must be implemented by the subclasses.\n",
    "\n",
    "Enforcing Subclass Implementation: By defining abstract base classes and abstract methods, the abc module helps enforce the contract that subclasses must adhere to. It ensures that subclasses provide implementations for all the abstract methods defined in the abstract base class.\n",
    "\n",
    "The abc module and abstract base classes promote code reusability, modularity, and the concept of \"programming to an interface.\" They allow developers to define a common interface for related classes and provide a way to ensure that the subclasses adhere to the contract defined by the abstract base class.\n",
    "\n",
    "Here's a simple example to illustrate the usage of the abc module:"
   ]
  },
  {
   "cell_type": "code",
   "execution_count": 4,
   "metadata": {},
   "outputs": [
    {
     "name": "stdout",
     "output_type": "stream",
     "text": [
      "15\n",
      "16\n",
      "12.56\n",
      "12.56\n"
     ]
    }
   ],
   "source": [
    "from abc import ABC, abstractmethod\n",
    "\n",
    "class Shape(ABC):\n",
    "    @abstractmethod\n",
    "    def area(self):\n",
    "        pass\n",
    "\n",
    "    @abstractmethod\n",
    "    def perimeter(self):\n",
    "        pass\n",
    "\n",
    "class Rectangle(Shape):\n",
    "    def __init__(self, length, width):\n",
    "        self.length = length\n",
    "        self.width = width\n",
    "\n",
    "    def area(self):\n",
    "        return self.length * self.width\n",
    "\n",
    "    def perimeter(self):\n",
    "        return 2 * (self.length + self.width)\n",
    "\n",
    "class Circle(Shape):\n",
    "    def __init__(self, radius):\n",
    "        self.radius = radius\n",
    "\n",
    "    def area(self):\n",
    "        return 3.14 * self.radius ** 2\n",
    "\n",
    "    def perimeter(self):\n",
    "        return 2 * 3.14 * self.radius\n",
    "\n",
    "rectangle = Rectangle(5, 3)\n",
    "circle = Circle(2)\n",
    "\n",
    "print(rectangle.area())  # Output: 15\n",
    "print(rectangle.perimeter())  # Output: 16\n",
    "print(circle.area())  # Output: 12.56\n",
    "print(circle.perimeter())  # Output: 12.56\n"
   ]
  },
  {
   "attachments": {},
   "cell_type": "markdown",
   "metadata": {},
   "source": [
    "In this example, the Shape class is an abstract base class that defines two abstract methods: area() and perimeter(). The Rectangle and Circle classes are concrete subclasses of Shape and provide their implementations for the abstract methods. The area() and perimeter() methods are implemented differently for each subclass, but they adhere to the common interface defined by the Shape abstract base class.\n",
    "\n",
    "\n",
    "\n",
    "\n"
   ]
  },
  {
   "attachments": {},
   "cell_type": "markdown",
   "metadata": {},
   "source": [
    "Q4. How can we achieve data abstraction?\n",
    "\n",
    "ANs- Data abstraction in Python can be achieved through the use of classes and objects. Here are the steps to achieve data abstraction:\n",
    "\n",
    "Define a Class: Start by defining a class that represents the abstraction of a specific entity or concept. This class will act as a blueprint for creating objects.\n",
    "\n",
    "Hide Implementation Details: Within the class, hide the implementation details of the data by making them private or protected. This is done by using naming conventions like prefixing the attribute or method names with a single underscore (_) or double underscore (__).\n",
    "\n",
    "Provide Public Interfaces: Define public methods or functions within the class that allow users to interact with the data or perform operations on it. These methods serve as the interface for accessing and manipulating the data.\n",
    "\n",
    "Encapsulate Data: Encapsulate the data within the class by using instance variables. These variables hold the data specific to each object created from the class. The class methods and functions can access and modify this data.\n",
    "\n",
    "Access Data Through Methods: To access or modify the data, use getter and setter methods within the class. These methods provide controlled access to the private or protected data, allowing users to retrieve or update it.\n",
    "\n",
    "By following these steps, the internal implementation details of the data are hidden from the users of the class. They can only interact with the data through the provided public interfaces, maintaining the abstraction.\n",
    "\n",
    "Here's a simple example to illustrate data abstraction:\n",
    "\n"
   ]
  },
  {
   "cell_type": "code",
   "execution_count": 5,
   "metadata": {},
   "outputs": [
    {
     "name": "stdout",
     "output_type": "stream",
     "text": [
      "1000\n",
      "1500\n",
      "1300\n",
      "123456789\n"
     ]
    }
   ],
   "source": [
    "class BankAccount:\n",
    "    def __init__(self, account_number, balance):\n",
    "        self._account_number = account_number\n",
    "        self._balance = balance\n",
    "\n",
    "    def deposit(self, amount):\n",
    "        self._balance += amount\n",
    "\n",
    "    def withdraw(self, amount):\n",
    "        if amount <= self._balance:\n",
    "            self._balance -= amount\n",
    "        else:\n",
    "            print(\"Insufficient funds.\")\n",
    "\n",
    "    def get_balance(self):\n",
    "        return self._balance\n",
    "\n",
    "    def get_account_number(self):\n",
    "        return self._account_number\n",
    "\n",
    "\n",
    "# Creating an object and accessing data through methods\n",
    "account = BankAccount(\"123456789\", 1000)\n",
    "\n",
    "print(account.get_balance())  # Output: 1000\n",
    "account.deposit(500)\n",
    "print(account.get_balance())  # Output: 1500\n",
    "account.withdraw(200)\n",
    "print(account.get_balance())  # Output: 1300\n",
    "print(account.get_account_number())  # Output: 123456789\n"
   ]
  },
  {
   "attachments": {},
   "cell_type": "markdown",
   "metadata": {},
   "source": [
    "In this example, the BankAccount class represents a bank account. The account number and balance are kept as private attributes (_account_number and _balance). Public methods (deposit(), withdraw(), get_balance(), get_account_number()) are provided to interact with the data. Users of the class can only access and modify the data through these methods, ensuring data abstraction.\n",
    "\n",
    "\n",
    "\n",
    "\n"
   ]
  },
  {
   "attachments": {},
   "cell_type": "markdown",
   "metadata": {},
   "source": [
    "Q5. Can we create an instance of an abstract class? Explain your answer."
   ]
  },
  {
   "attachments": {},
   "cell_type": "markdown",
   "metadata": {},
   "source": [
    "No, we cannot create an instance of an abstract class in Python. Abstract classes are meant to be subclasses and provide a common interface for their subclasses. They are incomplete classes that define abstract methods but do not provide implementations for them.\n",
    "\n",
    "An abstract class is created by inheriting from the ABC class (or using the @abc.abstractmethod decorator) from the abc module. By designating a class as abstract, we are indicating that it is not intended to be instantiated directly.\n",
    "\n",
    "Attempting to create an instance of an abstract class directly will raise a TypeError. This is because abstract classes are incomplete and lack implementations for one or more abstract methods, making them incomplete for use on their own.\n",
    "\n",
    "Abstract classes serve as blueprints or contracts that define a common interface and enforce certain behavior on their subclasses. The subclasses are responsible for providing concrete implementations for the abstract methods defined in the abstract base class.\n",
    "\n",
    "To use an abstract class, we need to create a concrete subclass that inherits from the abstract class and provides implementations for all the abstract methods. It is the subclass that can be instantiated and used to work with objects.\n",
    "\n",
    "Here's an example to illustrate this concept:\n",
    "\n",
    "\n"
   ]
  },
  {
   "cell_type": "code",
   "execution_count": 6,
   "metadata": {},
   "outputs": [
    {
     "ename": "TypeError",
     "evalue": "Can't instantiate abstract class AbstractClass with abstract method abstract_method",
     "output_type": "error",
     "traceback": [
      "\u001b[1;31m---------------------------------------------------------------------------\u001b[0m",
      "\u001b[1;31mTypeError\u001b[0m                                 Traceback (most recent call last)",
      "Cell \u001b[1;32mIn[6], line 14\u001b[0m\n\u001b[0;32m     10\u001b[0m         \u001b[39mprint\u001b[39m(\u001b[39m\"\u001b[39m\u001b[39mConcrete implementation of abstract_method\u001b[39m\u001b[39m\"\u001b[39m)\n\u001b[0;32m     12\u001b[0m \u001b[39m# Trying to create an instance of the abstract class\u001b[39;00m\n\u001b[0;32m     13\u001b[0m \u001b[39m# This will raise a TypeError\u001b[39;00m\n\u001b[1;32m---> 14\u001b[0m instance \u001b[39m=\u001b[39m AbstractClass()\n\u001b[0;32m     16\u001b[0m \u001b[39m# Creating an instance of the concrete subclass\u001b[39;00m\n\u001b[0;32m     17\u001b[0m instance \u001b[39m=\u001b[39m ConcreteClass()\n",
      "\u001b[1;31mTypeError\u001b[0m: Can't instantiate abstract class AbstractClass with abstract method abstract_method"
     ]
    }
   ],
   "source": [
    "from abc import ABC, abstractmethod\n",
    "\n",
    "class AbstractClass(ABC):\n",
    "    @abstractmethod\n",
    "    def abstract_method(self):\n",
    "        pass\n",
    "\n",
    "class ConcreteClass(AbstractClass):\n",
    "    def abstract_method(self):\n",
    "        print(\"Concrete implementation of abstract_method\")\n",
    "\n",
    "# Trying to create an instance of the abstract class\n",
    "# This will raise a TypeError\n",
    "instance = AbstractClass()\n",
    "\n",
    "# Creating an instance of the concrete subclass\n",
    "instance = ConcreteClass()\n",
    "instance.abstract_method()  # Output: Concrete implementation of abstract_method\n"
   ]
  },
  {
   "attachments": {},
   "cell_type": "markdown",
   "metadata": {},
   "source": [
    "In this example, the AbstractClass is an abstract class with one abstract method abstract_method(). We cannot create an instance of AbstractClass, but we can create an instance of ConcreteClass, which is a concrete subclass of AbstractClass. The ConcreteClass provides an implementation for the abstract method, and we can use its instance to invoke the concrete implementation."
   ]
  },
  {
   "cell_type": "markdown",
   "metadata": {},
   "source": []
  }
 ],
 "metadata": {
  "kernelspec": {
   "display_name": "base",
   "language": "python",
   "name": "python3"
  },
  "language_info": {
   "codemirror_mode": {
    "name": "ipython",
    "version": 3
   },
   "file_extension": ".py",
   "mimetype": "text/x-python",
   "name": "python",
   "nbconvert_exporter": "python",
   "pygments_lexer": "ipython3",
   "version": "3.10.9"
  },
  "orig_nbformat": 4
 },
 "nbformat": 4,
 "nbformat_minor": 2
}
