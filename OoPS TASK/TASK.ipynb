{
 "cells": [
  {
   "attachments": {},
   "cell_type": "markdown",
   "metadata": {},
   "source": [
    "# ASSIGNMENT"
   ]
  },
  {
   "attachments": {},
   "cell_type": "markdown",
   "metadata": {},
   "source": [
    "Q1, Create a vehicle class with an init method having instance variables as name_of_vehicle, max_speed\n",
    "and average_of_vehicle."
   ]
  },
  {
   "cell_type": "code",
   "execution_count": 1,
   "metadata": {},
   "outputs": [
    {
     "name": "stdout",
     "output_type": "stream",
     "text": [
      "Vehicle: Car\n",
      "Max Speed: 200\n",
      "Average Speed: 80\n",
      "\n",
      "Vehicle: Bike\n",
      "Max Speed: 180\n",
      "Average Speed: 60\n"
     ]
    }
   ],
   "source": [
    "class Vehicle:\n",
    "    def __init__(self, name_of_vehicle, max_speed, average_speed):\n",
    "        self.name_of_vehicle = name_of_vehicle\n",
    "        self.max_speed = max_speed\n",
    "        self.average_speed = average_speed\n",
    "\n",
    "    def display_vehicle_info(self):\n",
    "        print(\"Vehicle:\", self.name_of_vehicle)\n",
    "        print(\"Max Speed:\", self.max_speed)\n",
    "        print(\"Average Speed:\", self.average_speed)\n",
    "\n",
    "\n",
    "# Creating instances of the Vehicle class\n",
    "car = Vehicle(\"Car\", 200, 80)\n",
    "bike = Vehicle(\"Bike\", 180, 60)\n",
    "\n",
    "# Displaying vehicle information\n",
    "car.display_vehicle_info()\n",
    "print()\n",
    "bike.display_vehicle_info()\n"
   ]
  },
  {
   "attachments": {},
   "cell_type": "markdown",
   "metadata": {},
   "source": [
    "Q2. Create a child class car from the vehicle class created in Que 1, which will inherit the vehicle class. Create a method named seating_capacity which takes capacity as an argument and returns the name of\n",
    "the vehicle and its seating capacity.\n"
   ]
  },
  {
   "cell_type": "code",
   "execution_count": 2,
   "metadata": {},
   "outputs": [
    {
     "name": "stdout",
     "output_type": "stream",
     "text": [
      "Car - Seating Capacity: 5\n"
     ]
    }
   ],
   "source": [
    "class Car(Vehicle):\n",
    "    def seating_capacity(self, capacity):\n",
    "        return f\"{self.name_of_vehicle} - Seating Capacity: {capacity}\"\n",
    "\n",
    "\n",
    "# Creating an instance of the Car class\n",
    "car = Car(\"Car\", 200, 80)\n",
    "\n",
    "# Calling the seating_capacity method\n",
    "capacity = 5\n",
    "result = car.seating_capacity(capacity)\n",
    "\n",
    "# Displaying the result\n",
    "print(result)\n"
   ]
  },
  {
   "attachments": {},
   "cell_type": "markdown",
   "metadata": {},
   "source": [
    "Q3. What is multiple inheritance? Write a python code to demonstrate multiple inheritance.\n",
    "\n",
    "Ans- Multiple inheritance is a feature in object-oriented programming where a class can inherit attributes and methods from multiple parent classes. In other words, a class can inherit from more than one base class, allowing it to access and use the attributes and methods of all the parent classes.\n",
    "\n",
    "Here's an example of multiple inheritance in Python:"
   ]
  },
  {
   "cell_type": "code",
   "execution_count": 3,
   "metadata": {},
   "outputs": [
    {
     "name": "stdout",
     "output_type": "stream",
     "text": [
      "Method A from class A\n",
      "Method B from class B\n",
      "Method C from class C\n"
     ]
    }
   ],
   "source": [
    "class A:\n",
    "    def method_A(self):\n",
    "        print(\"Method A from class A\")\n",
    "\n",
    "class B:\n",
    "    def method_B(self):\n",
    "        print(\"Method B from class B\")\n",
    "\n",
    "class C(A, B):\n",
    "    def method_C(self):\n",
    "        print(\"Method C from class C\")\n",
    "\n",
    "# Creating an instance of class C\n",
    "obj = C()\n",
    "\n",
    "# Accessing methods from class A\n",
    "obj.method_A()  # Output: Method A from class A\n",
    "\n",
    "# Accessing methods from class B\n",
    "obj.method_B()  # Output: Method B from class B\n",
    "\n",
    "# Accessing method from class C\n",
    "obj.method_C()  # Output: Method C from class C\n"
   ]
  },
  {
   "attachments": {},
   "cell_type": "markdown",
   "metadata": {},
   "source": [
    "n this example, we have three classes: A, B, and C. Class C is derived from both classes A and B, representing multiple inheritance.\n",
    "\n",
    "The class A has a method called method_A, and the class B has a method called method_B. Both of these methods can be accessed by instances of class C due to multiple inheritance.\n",
    "\n",
    "The class C also has its own method called method_C, which is specific to class C.\n",
    "\n",
    "We create an instance of class C and call the methods method_A, method_B, and method_C on that instance. As a result, we can see that the instance of class C is able to access and utilize the methods from both class A and class B through multiple inheritance."
   ]
  },
  {
   "attachments": {},
   "cell_type": "markdown",
   "metadata": {},
   "source": [
    "Q4. What are getter and setter in python? Create a class and create a getter and a setter method in this class.\n",
    "\n",
    "Ans-In Python, getters and setters are methods used to access and modify the values of class attributes. They provide a way to encapsulate the attribute access and enable better control over the attribute values.\n",
    "\n",
    "Getters (also known as accessor methods) are used to retrieve the values of attributes. They ensure controlled access to the attribute by providing a way to retrieve the value without directly accessing the attribute itself.\n",
    "\n",
    "Setters (also known as mutator methods) are used to modify the values of attributes. They allow controlled modification of the attribute value by performing additional checks or operations before assigning the new value.\n",
    "\n",
    "Here's an example that demonstrates the use of getter and setter methods in a Python class:"
   ]
  },
  {
   "cell_type": "code",
   "execution_count": 4,
   "metadata": {},
   "outputs": [
    {
     "name": "stdout",
     "output_type": "stream",
     "text": [
      "John\n",
      "Jane\n"
     ]
    }
   ],
   "source": [
    "class Person:\n",
    "    def __init__(self, name):\n",
    "        self._name = name\n",
    "\n",
    "    # Getter method for the name attribute\n",
    "    def get_name(self):\n",
    "        return self._name\n",
    "\n",
    "    # Setter method for the name attribute\n",
    "    def set_name(self, new_name):\n",
    "        self._name = new_name\n",
    "\n",
    "# Creating an instance of the Person class\n",
    "person = Person(\"John\")\n",
    "\n",
    "# Getting the name using the getter method\n",
    "print(person.get_name())  # Output: John\n",
    "\n",
    "# Setting a new name using the setter method\n",
    "person.set_name(\"Jane\")\n",
    "\n",
    "# Getting the updated name using the getter method\n",
    "print(person.get_name())  # Output: Jane\n"
   ]
  },
  {
   "attachments": {},
   "cell_type": "markdown",
   "metadata": {},
   "source": [
    "In this example, the Person class has a private attribute _name which is initialized through the __init__ method. The getter method get_name allows us to retrieve the value of the _name attribute, and the setter method set_name allows us to modify the value of the _name attribute.\n",
    "\n",
    "By using the getter and setter methods, we can ensure controlled access and modification of the attribute. In this case, we can get and set the name of a person through the get_name and set_name methods, respectively."
   ]
  },
  {
   "attachments": {},
   "cell_type": "markdown",
   "metadata": {},
   "source": [
    "Q5.What is method overriding in python? Write a python code to demonstrate method overriding.\n",
    "\n",
    "Ans- Method overriding in Python is a feature of object-oriented programming that allows a subclass to provide a different implementation of a method that is already defined in its parent class. It enables a subclass to modify the behavior of an inherited method to suit its specific requirements.\n",
    "\n",
    "Here's an example that demonstrates method overriding in Python:"
   ]
  },
  {
   "cell_type": "code",
   "execution_count": 5,
   "metadata": {},
   "outputs": [
    {
     "name": "stdout",
     "output_type": "stream",
     "text": [
      "Generic sound of an animal\n",
      "Bark\n",
      "Meow\n"
     ]
    }
   ],
   "source": [
    "class Animal:\n",
    "    def make_sound(self):\n",
    "        print(\"Generic sound of an animal\")\n",
    "\n",
    "class Dog(Animal):\n",
    "    def make_sound(self):\n",
    "        print(\"Bark\")\n",
    "\n",
    "class Cat(Animal):\n",
    "    def make_sound(self):\n",
    "        print(\"Meow\")\n",
    "\n",
    "# Creating instances of the classes\n",
    "animal = Animal()\n",
    "dog = Dog()\n",
    "cat = Cat()\n",
    "\n",
    "# Calling the make_sound method\n",
    "animal.make_sound()  # Output: Generic sound of an animal\n",
    "dog.make_sound()     # Output: Bark\n",
    "cat.make_sound()     # Output: Meow\n"
   ]
  },
  {
   "cell_type": "markdown",
   "metadata": {},
   "source": [
    "In this example, we have a base class Animal with a method make_sound that prints a generic sound of an animal. The subclasses Dog and Cat inherit from the Animal class.\n",
    "\n",
    "Both the Dog and Cat subclasses override the make_sound method and provide their own implementation specific to their respective animals. The Dog class prints \"Bark\" when the make_sound method is called, and the Cat class prints \"Meow\".\n",
    "\n",
    "When we create instances of the Animal, Dog, and Cat classes and call the make_sound method on each instance, we can observe that the method call invokes the implementation defined in the respective subclass. This behavior demonstrates method overriding, where the subclass provides its own implementation of a method inherited from the parent class."
   ]
  },
  {
   "cell_type": "code",
   "execution_count": null,
   "metadata": {},
   "outputs": [],
   "source": []
  }
 ],
 "metadata": {
  "kernelspec": {
   "display_name": "base",
   "language": "python",
   "name": "python3"
  },
  "language_info": {
   "codemirror_mode": {
    "name": "ipython",
    "version": 3
   },
   "file_extension": ".py",
   "mimetype": "text/x-python",
   "name": "python",
   "nbconvert_exporter": "python",
   "pygments_lexer": "ipython3",
   "version": "3.10.9"
  },
  "orig_nbformat": 4
 },
 "nbformat": 4,
 "nbformat_minor": 2
}
