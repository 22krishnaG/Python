{
 "cells": [
  {
   "attachments": {},
   "cell_type": "markdown",
   "metadata": {},
   "source": [
    "# ASSIGNMENT"
   ]
  },
  {
   "attachments": {},
   "cell_type": "markdown",
   "metadata": {},
   "source": [
    "Q.1 what is Exception in python? Write the difference between Exceptions and syntax errors.\n",
    "Ans-\n",
    "In Python, an exception is an event that occurs during the execution of a program that disrupts the normal flow of the program's instructions. When an exceptional condition arises, an exception object is created, which then halts the execution of the program and jumps to a special code block known as an exception handler.\n",
    "\n",
    "Exceptions can occur due to various reasons, such as invalid input, file not found, network issues, division by zero, and so on. Python provides a built-in mechanism to handle these exceptions, allowing you to gracefully respond to errors and prevent your program from crashing.\n",
    "\n",
    "On the other hand, syntax errors are errors that occur when you violate the rules of the Python language syntax. These errors are usually caught by the Python interpreter before the program is executed, and they prevent the program from running altogether. Syntax errors are often caused by typos, missing or misplaced punctuation, incorrect indentation, or incorrect usage of Python keywords.\n",
    "\n",
    "The main differences between exceptions and syntax errors can be summarized as follows:\n",
    "\n",
    "Occurrence: Exceptions occur during the runtime of a program, while syntax errors are detected before the program is executed.\n",
    "\n",
    "Error Handling: Exceptions can be handled using try-except blocks to catch and handle the exception gracefully, allowing the program to continue execution. Syntax errors cannot be caught or handled because they prevent the program from running.\n",
    "\n",
    "Nature: Exceptions are generally caused by external factors, such as user input or system issues, and they can occur at any point during program execution. Syntax errors, on the other hand, are caused by violations of the Python language syntax rules and are typically due to mistakes made by the programmer.\n",
    "\n",
    "To summarize, exceptions are runtime errors that can be caught and handled, allowing the program to handle exceptional conditions and continue execution. Syntax errors, on the other hand, are compile-time errors that occur due to violations of the language syntax rules and prevent the program from running"
   ]
  },
  {
   "cell_type": "code",
   "execution_count": null,
   "metadata": {},
   "outputs": [],
   "source": []
  },
  {
   "attachments": {},
   "cell_type": "markdown",
   "metadata": {},
   "source": [
    "Q2. what happens when an exception is not handled? Explain with an example.\n",
    "Ans- \n",
    "When an exception is not handled in Python, it leads to the termination of the program and the generation of an error message known as an unhandled exception traceback. This traceback provides information about the exception type, the line of code where the exception occurred, and the call stack leading up to the exception.\n",
    "\n",
    "Here's an example to illustrate what happens when an exception is not handled:"
   ]
  },
  {
   "cell_type": "code",
   "execution_count": 1,
   "metadata": {},
   "outputs": [
    {
     "ename": "ZeroDivisionError",
     "evalue": "division by zero",
     "output_type": "error",
     "traceback": [
      "\u001b[1;31m---------------------------------------------------------------------------\u001b[0m",
      "\u001b[1;31mZeroDivisionError\u001b[0m                         Traceback (most recent call last)",
      "Cell \u001b[1;32mIn[1], line 8\u001b[0m\n\u001b[0;32m      5\u001b[0m num1 \u001b[39m=\u001b[39m \u001b[39m10\u001b[39m\n\u001b[0;32m      6\u001b[0m num2 \u001b[39m=\u001b[39m \u001b[39m0\u001b[39m\n\u001b[1;32m----> 8\u001b[0m result \u001b[39m=\u001b[39m divide(num1, num2)\n\u001b[0;32m      9\u001b[0m \u001b[39mprint\u001b[39m(\u001b[39m\"\u001b[39m\u001b[39mResult:\u001b[39m\u001b[39m\"\u001b[39m, result)\n",
      "Cell \u001b[1;32mIn[1], line 2\u001b[0m, in \u001b[0;36mdivide\u001b[1;34m(a, b)\u001b[0m\n\u001b[0;32m      1\u001b[0m \u001b[39mdef\u001b[39;00m \u001b[39mdivide\u001b[39m(a, b):\n\u001b[1;32m----> 2\u001b[0m     result \u001b[39m=\u001b[39m a \u001b[39m/\u001b[39;49m b\n\u001b[0;32m      3\u001b[0m     \u001b[39mreturn\u001b[39;00m result\n",
      "\u001b[1;31mZeroDivisionError\u001b[0m: division by zero"
     ]
    }
   ],
   "source": [
    "def divide(a, b):\n",
    "    result = a / b\n",
    "    return result\n",
    "\n",
    "num1 = 10\n",
    "num2 = 0\n",
    "\n",
    "result = divide(num1, num2)\n",
    "print(\"Result:\", result)\n"
   ]
  },
  {
   "attachments": {},
   "cell_type": "markdown",
   "metadata": {},
   "source": [
    "In this example, the divide function attempts to divide num1 by num2. However, dividing a number by zero is not allowed in mathematics, so it will raise a ZeroDivisionError exception.\n",
    "\n",
    "When this code is executed, the exception will occur at the line result = a / b. Since we haven't implemented any exception handling mechanism, the program will terminate and display an unhandled exception traceback:"
   ]
  },
  {
   "cell_type": "code",
   "execution_count": 2,
   "metadata": {},
   "outputs": [
    {
     "ename": "SyntaxError",
     "evalue": "invalid syntax. Perhaps you forgot a comma? (1447349920.py, line 1)",
     "output_type": "error",
     "traceback": [
      "\u001b[1;36m  Cell \u001b[1;32mIn[2], line 1\u001b[1;36m\u001b[0m\n\u001b[1;33m    Traceback (most recent call last):\u001b[0m\n\u001b[1;37m               ^\u001b[0m\n\u001b[1;31mSyntaxError\u001b[0m\u001b[1;31m:\u001b[0m invalid syntax. Perhaps you forgot a comma?\n"
     ]
    }
   ],
   "source": [
    "Traceback (most recent call last):\n",
    "  File \"example.py\", line 7, in <module>\n",
    "    result = divide(num1, num2)\n",
    "  File \"example.py\", line 2, in divide\n",
    "    result = a / b\n",
    "ZeroDivisionError: division by zero\n"
   ]
  },
  {
   "attachments": {},
   "cell_type": "markdown",
   "metadata": {},
   "source": [
    "The traceback shows that a ZeroDivisionError occurred in the divide function at line 2, which was called from the main program at line 7.\n",
    "\n",
    "When an exception is not handled, it propagates up the call stack until it reaches the top-level of the program, where it causes the program to terminate and display the traceback. This can be problematic as it interrupts the normal execution flow and may lead to unexpected program behavior or data corruption if resources are not properly handled or cleaned up.\n",
    "\n",
    "To handle exceptions and prevent program termination, you can use a try-except block to catch and handle specific exceptions. For example, in the previous code, you could catch the ZeroDivisionError and handle it gracefully:"
   ]
  },
  {
   "cell_type": "code",
   "execution_count": 3,
   "metadata": {},
   "outputs": [
    {
     "name": "stdout",
     "output_type": "stream",
     "text": [
      "Error: Cannot divide by zero\n",
      "Result: None\n"
     ]
    }
   ],
   "source": [
    "def divide(a, b):\n",
    "    try:\n",
    "        result = a / b\n",
    "        return result\n",
    "    except ZeroDivisionError:\n",
    "        print(\"Error: Cannot divide by zero\")\n",
    "\n",
    "num1 = 10\n",
    "num2 = 0\n",
    "\n",
    "result = divide(num1, num2)\n",
    "print(\"Result:\", result)\n"
   ]
  },
  {
   "attachments": {},
   "cell_type": "markdown",
   "metadata": {},
   "source": [
    "In this updated code, the ZeroDivisionError is caught in the except block, and instead of terminating the program, an error message is displayed. This way, the program can continue execution and handle exceptional conditions appropriately."
   ]
  },
  {
   "attachments": {},
   "cell_type": "markdown",
   "metadata": {},
   "source": [
    "Q.3 Which Python statements are used to catch and handle exception? Explain with an example.\n",
    "\n",
    "\n",
    "Ans.    \n",
    "In Python, the try-except statement is used to catch and handle exceptions. It allows you to specify a block of code that might raise an exception, and then provides an alternative code block to handle the exception if it occurs.\n",
    "\n",
    "The syntax of the try-except statement is as follows:"
   ]
  },
  {
   "cell_type": "code",
   "execution_count": 4,
   "metadata": {},
   "outputs": [
    {
     "ename": "IndentationError",
     "evalue": "expected an indented block after 'try' statement on line 1 (3097012983.py, line 3)",
     "output_type": "error",
     "traceback": [
      "\u001b[1;36m  Cell \u001b[1;32mIn[4], line 3\u001b[1;36m\u001b[0m\n\u001b[1;33m    except ExceptionType:\u001b[0m\n\u001b[1;37m    ^\u001b[0m\n\u001b[1;31mIndentationError\u001b[0m\u001b[1;31m:\u001b[0m expected an indented block after 'try' statement on line 1\n"
     ]
    }
   ],
   "source": [
    "try:\n",
    "    # Code block where an exception might occur\n",
    "except ExceptionType:\n",
    "    # Code block to handle the exception\n"
   ]
  },
  {
   "attachments": {},
   "cell_type": "markdown",
   "metadata": {},
   "source": [
    "Here's an example that demonstrates the use of try-except to catch and handle an exception:"
   ]
  },
  {
   "cell_type": "code",
   "execution_count": 5,
   "metadata": {},
   "outputs": [
    {
     "name": "stdout",
     "output_type": "stream",
     "text": [
      "Error: Cannot divide by zero\n",
      "Result: None\n"
     ]
    }
   ],
   "source": [
    "def divide(a, b):\n",
    "    try:\n",
    "        result = a / b\n",
    "        return result\n",
    "    except ZeroDivisionError:\n",
    "        print(\"Error: Cannot divide by zero\")\n",
    "\n",
    "num1 = 10\n",
    "num2 = 0\n",
    "\n",
    "result = divide(num1, num2)\n",
    "print(\"Result:\", result)\n"
   ]
  },
  {
   "attachments": {},
   "cell_type": "markdown",
   "metadata": {},
   "source": [
    "In this example, the divide function attempts to divide num1 by num2, which may raise a ZeroDivisionError if num2 is zero. To handle this potential exception, we use a try-except block.\n",
    "\n",
    "In the try block, the code attempts to perform the division operation. If no exception occurs, the code continues executing normally. However, if a ZeroDivisionError is raised, the except block is executed.\n",
    "\n",
    "In the except block, we handle the ZeroDivisionError exception by printing an error message. This way, even if an exception occurs, the program doesn't terminate abruptly, and the error is handled gracefully.\n",
    "\n",
    "When executing the code, if num2 is zero, the ZeroDivisionError will be caught by the except block, and the error message will be printed:"
   ]
  },
  {
   "cell_type": "code",
   "execution_count": null,
   "metadata": {},
   "outputs": [],
   "source": [
    "Error: Cannot divide by zero\n"
   ]
  },
  {
   "attachments": {},
   "cell_type": "markdown",
   "metadata": {},
   "source": [
    "After handling the exception, the program continues executing the remaining code, in this case, printing \"Result: None\". Since the division operation failed, the result variable doesn't hold a valid value, so it becomes None.\n",
    "\n",
    "By using the try-except statement, you can anticipate and handle specific exceptions, allowing your program to gracefully handle exceptional conditions and continue execution without terminating abruptly."
   ]
  },
  {
   "attachments": {},
   "cell_type": "markdown",
   "metadata": {},
   "source": [
    "Q.4 Explain with an example:\n",
    "a. try and else\n",
    "b. finally\n",
    "c. raise\n",
    "\n",
    "Ans: \n",
    "\n",
    "a. try and else:\n",
    "\n",
    "The try statement is used to enclose a block of code that might raise an exception. The purpose of the try block is to identify and handle exceptions. The else block, which is optional, is executed if no exceptions occur in the try block.\n",
    "\n",
    "Here's an example that demonstrates the usage of try and else:"
   ]
  },
  {
   "cell_type": "code",
   "execution_count": 7,
   "metadata": {},
   "outputs": [
    {
     "name": "stdout",
     "output_type": "stream",
     "text": [
      "Result: 0.0\n"
     ]
    }
   ],
   "source": [
    "try:\n",
    "    num1 = int(input(\"Enter a number: \"))\n",
    "    num2 = int(input(\"Enter another number: \"))\n",
    "    result = num1 / num2\n",
    "except ValueError:\n",
    "    print(\"Invalid input. Please enter numbers.\")\n",
    "except ZeroDivisionError:\n",
    "    print(\"Error: Cannot divide by zero.\")\n",
    "else:\n",
    "    print(\"Result:\", result)\n"
   ]
  },
  {
   "attachments": {},
   "cell_type": "markdown",
   "metadata": {},
   "source": [
    "In this example, we prompt the user to enter two numbers. The inputs are wrapped in a try block because they might raise a ValueError if the user enters a non-numeric value. If a ValueError occurs, the corresponding except block is executed.\n",
    "\n",
    "If no exception occurs, the else block is executed, which in this case, prints the result of dividing num1 by num2. The else block is only executed if no exceptions are raised within the try block.\n",
    "\n",
    "b. finally:\n",
    "\n",
    "The finally block is used to define a code block that will be executed regardless of whether an exception occurred or not. It is typically used to perform cleanup operations or release resources, ensuring that certain code is executed no matter what.\n",
    "\n",
    "Here's an example that demonstrates the usage of finally:"
   ]
  },
  {
   "cell_type": "code",
   "execution_count": 8,
   "metadata": {},
   "outputs": [
    {
     "name": "stdout",
     "output_type": "stream",
     "text": [
      "Error: File not found.\n"
     ]
    },
    {
     "ename": "NameError",
     "evalue": "name 'file' is not defined",
     "output_type": "error",
     "traceback": [
      "\u001b[1;31m---------------------------------------------------------------------------\u001b[0m",
      "\u001b[1;31mNameError\u001b[0m                                 Traceback (most recent call last)",
      "Cell \u001b[1;32mIn[8], line 7\u001b[0m\n\u001b[0;32m      5\u001b[0m     \u001b[39mprint\u001b[39m(\u001b[39m\"\u001b[39m\u001b[39mError: File not found.\u001b[39m\u001b[39m\"\u001b[39m)\n\u001b[0;32m      6\u001b[0m \u001b[39mfinally\u001b[39;00m:\n\u001b[1;32m----> 7\u001b[0m     file\u001b[39m.\u001b[39mclose()\n\u001b[0;32m      8\u001b[0m     \u001b[39mprint\u001b[39m(\u001b[39m\"\u001b[39m\u001b[39mFile closed.\u001b[39m\u001b[39m\"\u001b[39m)\n",
      "\u001b[1;31mNameError\u001b[0m: name 'file' is not defined"
     ]
    }
   ],
   "source": [
    "try:\n",
    "    file = open(\"data.txt\", \"r\")\n",
    "    # Perform some operations with the file\n",
    "except FileNotFoundError:\n",
    "    print(\"Error: File not found.\")\n",
    "finally:\n",
    "    file.close()\n",
    "    print(\"File closed.\")\n"
   ]
  },
  {
   "attachments": {},
   "cell_type": "markdown",
   "metadata": {},
   "source": [
    "In this example, we attempt to open a file named \"data.txt\" for reading. If the file is not found, a FileNotFoundError exception may occur, and the corresponding except block is executed. However, regardless of whether an exception occurs or not, the finally block is always executed.\n",
    "\n",
    "In the finally block, we close the file using the close() method, ensuring that the file is closed and any associated system resources are released. The message \"File closed.\" is then printed.\n",
    "\n",
    "c. raise:\n",
    "\n",
    "The raise statement is used to explicitly raise an exception in Python. It allows you to signal that a specific exceptional condition has occurred and needs to be handled.\n",
    "\n",
    "Here's an example that demonstrates the usage of raise:"
   ]
  },
  {
   "cell_type": "code",
   "execution_count": 9,
   "metadata": {},
   "outputs": [
    {
     "name": "stdout",
     "output_type": "stream",
     "text": [
      "Error: Cannot divide by zero.\n"
     ]
    }
   ],
   "source": [
    "try:\n",
    "    num1 = int(input(\"Enter a number: \"))\n",
    "    num2 = int(input(\"Enter another number: \"))\n",
    "    result = num1 / num2\n",
    "except ValueError:\n",
    "    print(\"Invalid input. Please enter numbers.\")\n",
    "except ZeroDivisionError:\n",
    "    print(\"Error: Cannot divide by zero.\")\n",
    "else:\n",
    "    print(\"Result:\", result)\n"
   ]
  },
  {
   "attachments": {},
   "cell_type": "markdown",
   "metadata": {},
   "source": [
    "Q.5 What are Custom Exception in python? Why do we need Custom Exception? Explain with an example.\n",
    "Asns - In Python, custom exceptions are user-defined exceptions that you can create to handle specific exceptional conditions in your code. While Python provides a wide range of built-in exception types, sometimes you may encounter situations where none of the existing exceptions accurately represent the exceptional condition you want to handle. In such cases, you can create your own custom exception by defining a new class that inherits from the base Exception class or one of its subclasses.\n",
    "\n",
    "Here's an example to illustrate the need for custom exceptions and how to define and use them:"
   ]
  },
  {
   "cell_type": "code",
   "execution_count": 6,
   "metadata": {},
   "outputs": [
    {
     "name": "stdout",
     "output_type": "stream",
     "text": [
      "Error: Invalid input. Expected an integer.\n"
     ]
    }
   ],
   "source": [
    "class InvalidInputError(Exception):\n",
    "    pass\n",
    "\n",
    "def process_data(data):\n",
    "    if not isinstance(data, int):\n",
    "        raise InvalidInputError(\"Invalid input. Expected an integer.\")\n",
    "\n",
    "    # Process the data here...\n",
    "\n",
    "try:\n",
    "    input_data = \"abc\"\n",
    "    process_data(input_data)\n",
    "except InvalidInputError as e:\n",
    "    print(\"Error:\", str(e))\n"
   ]
  },
  {
   "attachments": {},
   "cell_type": "markdown",
   "metadata": {},
   "source": [
    "In this example, we define a custom exception called InvalidInputError by creating a new class that inherits from the base Exception class. The custom exception doesn't have any additional functionality or properties, so we simply use the pass statement in the class body.\n",
    "\n",
    "The process_data function expects an integer input and raises an InvalidInputError if the provided input is not an integer. The exception is raised using the raise statement, which creates an instance of the InvalidInputError class and provides an error message as its argument.\n",
    "\n",
    "In the main program, we attempt to process the data by calling process_data with a string input, \"abc\". Since the input is not an integer, the InvalidInputError exception is raised.\n",
    "\n",
    "We use a try-except block to catch the InvalidInputError exception. The exception instance is assigned to the variable e, which allows us to access the error message provided when the exception was raised. In this case, we simply print the error message.\n",
    "\n",
    "By using a custom exception, we can specifically handle the exceptional condition of receiving invalid input. This provides more clarity and control in our code. Custom exceptions can also be helpful for creating a hierarchy of exceptions, allowing you to catch different types of exceptions at different levels of your code and handle them accordingly.\n",
    "\n",
    "Overall, custom exceptions in Python allow you to create more expressive and meaningful error handling mechanisms tailored to the specific exceptional conditions encountered in your code."
   ]
  },
  {
   "cell_type": "code",
   "execution_count": 10,
   "metadata": {},
   "outputs": [
    {
     "name": "stdout",
     "output_type": "stream",
     "text": [
      "Error: Cannot divide by zero.\n"
     ]
    }
   ],
   "source": [
    "def divide(a, b):\n",
    "    if b == 0:\n",
    "        raise ZeroDivisionError(\"Error: Cannot divide by zero.\")\n",
    "    result = a / b\n",
    "    return result\n",
    "\n",
    "try:\n",
    "    result = divide(10, 0)\n",
    "    print(\"Result:\", result)\n",
    "except ZeroDivisionError as e:\n",
    "    print(str(e))\n"
   ]
  },
  {
   "attachments": {},
   "cell_type": "markdown",
   "metadata": {},
   "source": [
    "In this example, the divide function raises a ZeroDivisionError exception if the second argument b is zero. We use the raise statement to explicitly raise the exception with a custom error message.\n",
    "\n",
    "In the try block, we call the divide function with 10 as the numerator and 0 as the denominator. Since dividing by zero is not allowed, the ZeroDivisionError is raised. The exception is caught in the except block, and the error message is printed.\n",
    "\n",
    "The raise statement allows you to create and raise custom exceptions, or raise built-in exceptions with specific error messages, providing more control and clarity in your code's exception handling."
   ]
  },
  {
   "attachments": {},
   "cell_type": "markdown",
   "metadata": {},
   "source": [
    "Q.6 Create a custom exception class. use this class to handle an exception."
   ]
  },
  {
   "cell_type": "code",
   "execution_count": 11,
   "metadata": {},
   "outputs": [
    {
     "name": "stdout",
     "output_type": "stream",
     "text": [
      "Error: Value cannot be negative.\n"
     ]
    }
   ],
   "source": [
    "class CustomException(Exception):\n",
    "    pass\n",
    "\n",
    "def check_value(value):\n",
    "    if value < 0:\n",
    "        raise CustomException(\"Error: Value cannot be negative.\")\n",
    "\n",
    "try:\n",
    "    num = int(input(\"Enter a number: \"))\n",
    "    check_value(num)\n",
    "    print(\"Valid number:\", num)\n",
    "except CustomException as e:\n",
    "    print(str(e))\n"
   ]
  }
 ],
 "metadata": {
  "kernelspec": {
   "display_name": "base",
   "language": "python",
   "name": "python3"
  },
  "language_info": {
   "codemirror_mode": {
    "name": "ipython",
    "version": 3
   },
   "file_extension": ".py",
   "mimetype": "text/x-python",
   "name": "python",
   "nbconvert_exporter": "python",
   "pygments_lexer": "ipython3",
   "version": "3.10.9"
  },
  "orig_nbformat": 4
 },
 "nbformat": 4,
 "nbformat_minor": 2
}
