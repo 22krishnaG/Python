{
 "cells": [
  {
   "attachments": {},
   "cell_type": "markdown",
   "metadata": {},
   "source": [
    "Q1. Explain Class and Object with respect to Object-Oriented Programming. Give a suitable example.\n",
    "\n",
    "Ans: n object-oriented programming (OOP), a class is a blueprint or a template that defines the structure and behavior of objects. It encapsulates data (attributes) and functions (methods) that are related to a specific concept or entity. Objects, on the other hand, are instances of a class. They represent individual entities created from the class blueprint, and each object can have its own unique data and behavior.\n",
    "\n",
    "A class provides a way to create multiple objects with similar characteristics and behavior. It defines the common attributes and methods that objects of that class will have. Objects, on the other hand, are created based on the class, and they can access and modify the attributes and behavior defined by the class.\n",
    "\n",
    "Here's a suitable example to understand the concept of a class and object:"
   ]
  },
  {
   "cell_type": "code",
   "execution_count": 1,
   "metadata": {},
   "outputs": [
    {
     "name": "stdout",
     "output_type": "stream",
     "text": [
      "Toyota\n",
      "Camry\n",
      "2021\n",
      "The Honda Civic's engine has started.\n",
      "True\n",
      "The Honda Civic's engine has stopped.\n",
      "False\n"
     ]
    }
   ],
   "source": [
    "class Car:\n",
    "    def __init__(self, brand, model, year):\n",
    "        self.brand = brand\n",
    "        self.model = model\n",
    "        self.year = year\n",
    "        self.is_running = False\n",
    "    \n",
    "    def start_engine(self):\n",
    "        self.is_running = True\n",
    "        print(f\"The {self.brand} {self.model}'s engine has started.\")\n",
    "    \n",
    "    def stop_engine(self):\n",
    "        self.is_running = False\n",
    "        print(f\"The {self.brand} {self.model}'s engine has stopped.\")\n",
    "\n",
    "# Creating objects of the Car class\n",
    "car1 = Car(\"Toyota\", \"Camry\", 2021)\n",
    "car2 = Car(\"Honda\", \"Civic\", 2022)\n",
    "\n",
    "# Accessing attributes of car1\n",
    "print(car1.brand)  # Output: Toyota\n",
    "print(car1.model)  # Output: Camry\n",
    "print(car1.year)   # Output: 2021\n",
    "\n",
    "# Invoking methods on car2\n",
    "car2.start_engine()     # Output: The Honda Civic's engine has started.\n",
    "print(car2.is_running)  # Output: True\n",
    "car2.stop_engine()      # Output: The Honda Civic's engine has stopped.\n",
    "print(car2.is_running)  # Output: False\n"
   ]
  },
  {
   "attachments": {},
   "cell_type": "markdown",
   "metadata": {},
   "source": [
    "In the example above, the Car class is defined with attributes like brand, model, year, and a method called start_engine and stop_engine. Objects (car1 and car2) are created based on this class, representing individual cars. Each object has its own values for the attributes like brand, model, and year. The objects can also invoke methods defined in the class, such as start_engine and stop_engine, which operate on the object's attributes and perform actions related to the car's behavior.\n",
    "\n",
    "By using classes and objects, we can model and organize code in a way that reflects real-world entities and their interactions. This helps in creating modular, reusable, and maintainable code."
   ]
  },
  {
   "attachments": {},
   "cell_type": "markdown",
   "metadata": {},
   "source": [
    "Q2. Name the four pillars of OOPs.\n",
    "\n",
    "Ans- The four pillars of object-oriented programming (OOP) are:\n",
    "\n",
    "1.  Encapsulation: Encapsulation is the process of bundling data (attributes) and methods (functions) together within a class. It involves hiding the internal details and providing an interface to interact with the object. Encapsulation helps in achieving data abstraction, data hiding, and code modularity.\n",
    "\n",
    "2.  Inheritance: Inheritance allows classes to inherit attributes and methods from other classes. It enables the creation of hierarchical relationships between classes, where a child class inherits the properties of a parent class. This promotes code reuse, extensibility, and the organization of related classes into a hierarchical structure.\n",
    "\n",
    "3.  Polymorphism: Polymorphism means the ability of an object to take on many forms. It allows objects of different classes to be treated as objects of a common superclass. Polymorphism enables the use of a single interface to represent different types of objects. This helps in achieving code flexibility, reusability, and the implementation of dynamic behaviors.\n",
    "\n",
    "4. Abstraction: Abstraction involves representing complex real-world entities using simplified models in the form of classes and objects. It focuses on defining the essential characteristics and behavior of an object, while hiding the irrelevant details. Abstraction helps in managing complexity, providing a clear interface for interaction, and promoting code maintainability.\n",
    "\n",
    "These four pillars of OOP (Encapsulation, Inheritance, Polymorphism, and Abstraction) provide the foundation for creating modular, flexible, and reusable code, enabling developers to model and solve complex problems efficiently."
   ]
  },
  {
   "attachments": {},
   "cell_type": "markdown",
   "metadata": {},
   "source": [
    "Q3. Explain why the __init__() function is used. Give a suitable example.\n",
    "\n",
    "Ans- The __init__() function is a special method in Python classes that is automatically called when an object is created from the class. It is commonly known as the constructor method. The purpose of the __init__() function is to initialize the attributes of an object with specific values or perform any other necessary setup tasks.\n",
    "\n",
    "Here's an example to illustrate the use of the __init__() function:"
   ]
  },
  {
   "cell_type": "code",
   "execution_count": 2,
   "metadata": {},
   "outputs": [
    {
     "name": "stdout",
     "output_type": "stream",
     "text": [
      "John\n",
      "25\n",
      "My name is John and I am 25 years old.\n"
     ]
    }
   ],
   "source": [
    "class Person:\n",
    "    def __init__(self, name, age):\n",
    "        self.name = name\n",
    "        self.age = age\n",
    "    \n",
    "    def introduce(self):\n",
    "        print(f\"My name is {self.name} and I am {self.age} years old.\")\n",
    "\n",
    "# Creating an object of the Person class\n",
    "person = Person(\"John\", 25)\n",
    "\n",
    "# Accessing the attributes and invoking the method\n",
    "print(person.name)      # Output: John\n",
    "print(person.age)       # Output: 25\n",
    "person.introduce()      # Output: My name is John and I am 25 years old.\n"
   ]
  },
  {
   "attachments": {},
   "cell_type": "markdown",
   "metadata": {},
   "source": [
    "In this example, the Person class has an __init__() method that takes two parameters, name and age. These parameters are used to initialize the name and age attributes of the object.\n",
    "\n",
    "When an object is created using person = Person(\"John\", 25), the __init__() method is automatically called, and the name attribute is set to \"John\" and the age attribute is set to 25 for that object.\n",
    "\n",
    "The __init__() method is useful for ensuring that all objects of a class have their attributes properly initialized when created. It allows you to set initial values, perform data validation, or execute any other necessary setup tasks. It helps in maintaining consistency and providing a clean state for the newly created object.\n",
    "\n",
    "By defining the __init__() method in a class, you can control the initialization process and provide default or custom values for the attributes of objects created from that class."
   ]
  },
  {
   "attachments": {},
   "cell_type": "markdown",
   "metadata": {},
   "source": [
    "Q4. Why self is used in OOPs?\n",
    "\n",
    "Ans- n object-oriented programming (OOP), the self parameter is used to refer to the instance of a class within its methods. It acts as a reference to the current object being operated upon. It is a convention in Python to use the name self, although you can choose any valid name for the first parameter in a method.\n",
    "\n",
    "The use of self in OOP is important for the following reasons:\n",
    "\n",
    "Accessing Object Attributes: self allows methods within a class to access and manipulate the object's attributes. By using self.attribute_name, you can refer to the specific instance variable of the object.\n",
    "\n",
    "Differentiating Between Local and Instance Variables: In a method, if you have a local variable and an instance variable with the same name, using self helps distinguish between them. It allows you to explicitly reference the instance variable, ensuring you are working with the object's attribute rather than a local variable.\n",
    "\n",
    "Calling Other Class Methods: self is necessary to call other methods within the class. When invoking a method, you need to specify the instance upon which the method should operate. Using self.method_name() ensures that the method is called on the current object.\n",
    "\n",
    "Creating and Manipulating Multiple Objects: self allows you to create multiple instances of a class, and each object will have its own set of attributes and behavior. self helps differentiate between the instance variables of different objects, enabling you to work with the correct object's data."
   ]
  },
  {
   "cell_type": "code",
   "execution_count": 3,
   "metadata": {},
   "outputs": [
    {
     "name": "stdout",
     "output_type": "stream",
     "text": [
      "Brand: Toyota, Model: Camry\n",
      "Brand: Honda, Model: Civic\n"
     ]
    }
   ],
   "source": [
    "class Car:\n",
    "    def __init__(self, brand, model):\n",
    "        self.brand = brand\n",
    "        self.model = model\n",
    "\n",
    "    def get_car_info(self):\n",
    "        print(f\"Brand: {self.brand}, Model: {self.model}\")\n",
    "\n",
    "# Creating car objects\n",
    "car1 = Car(\"Toyota\", \"Camry\")\n",
    "car2 = Car(\"Honda\", \"Civic\")\n",
    "\n",
    "# Accessing object attributes using self\n",
    "car1.get_car_info()  # Output: Brand: Toyota, Model: Camry\n",
    "car2.get_car_info()  # Output: Brand: Honda, Model: Civic\n"
   ]
  },
  {
   "attachments": {},
   "cell_type": "markdown",
   "metadata": {},
   "source": [
    "In this example, the self parameter is used in the __init__() method to assign the brand and model attributes to each object. It is also used in the get_car_info() method to access and display the object's attributes.\n",
    "\n",
    "By using self, you can work with the specific instance of the class, access its attributes and methods, and differentiate between different objects of the same class. It allows for object-oriented principles like encapsulation, data abstraction, and interaction between objects.\n"
   ]
  },
  {
   "attachments": {},
   "cell_type": "markdown",
   "metadata": {},
   "source": [
    "Q5. What is inheritance? Give an example for each type of inheritance.\n",
    "\n",
    "Ans- Inheritance is a fundamental concept in object-oriented programming (OOP) that allows classes to inherit attributes and methods from other classes. It enables the creation of hierarchical relationships between classes, where a child class inherits the properties of a parent class. Inheritance promotes code reuse, modularity, and the organization of related classes into a hierarchical structure.\n",
    "\n",
    "There are different types of inheritance in Python:\n",
    "\n",
    "Single Inheritance:\n",
    "Single inheritance is when a child class inherits from a single parent class. It represents an \"is-a\" relationship, where the child class is a specialized version of the parent class.\n",
    "\n",
    "Example:"
   ]
  },
  {
   "cell_type": "code",
   "execution_count": 4,
   "metadata": {},
   "outputs": [
    {
     "name": "stdout",
     "output_type": "stream",
     "text": [
      "Dog barks\n"
     ]
    }
   ],
   "source": [
    "class Animal:\n",
    "    def sound(self):\n",
    "        print(\"Animal makes a sound\")\n",
    "\n",
    "class Dog(Animal):\n",
    "    def sound(self):\n",
    "        print(\"Dog barks\")\n",
    "\n",
    "dog = Dog()\n",
    "dog.sound()  # Output: Dog barks\n",
    "\n"
   ]
  },
  {
   "attachments": {},
   "cell_type": "markdown",
   "metadata": {},
   "source": [
    "Multiple Inheritance:\n",
    "Multiple inheritance is when a child class inherits from multiple parent classes. It allows the child class to inherit attributes and methods from multiple sources.\n",
    "\n",
    "Example:"
   ]
  },
  {
   "cell_type": "code",
   "execution_count": 5,
   "metadata": {},
   "outputs": [
    {
     "name": "stdout",
     "output_type": "stream",
     "text": [
      "Father has cooking skills\n"
     ]
    }
   ],
   "source": [
    "class Father:\n",
    "    def skill(self):\n",
    "        print(\"Father has cooking skills\")\n",
    "\n",
    "class Mother:\n",
    "    def skill(self):\n",
    "        print(\"Mother has painting skills\")\n",
    "\n",
    "class Child(Father, Mother):\n",
    "    pass\n",
    "\n",
    "child = Child()\n",
    "child.skill()  # Output: Father has cooking skills\n"
   ]
  },
  {
   "attachments": {},
   "cell_type": "markdown",
   "metadata": {},
   "source": [
    "Multilevel Inheritance:\n",
    "Multilevel inheritance is when a child class inherits from a parent class, and that parent class further inherits from another class. It represents a hierarchical relationship.\n",
    "\n",
    "Example:"
   ]
  },
  {
   "cell_type": "code",
   "execution_count": 6,
   "metadata": {},
   "outputs": [
    {
     "name": "stdout",
     "output_type": "stream",
     "text": [
      "Vehicle is being driven\n",
      "Sports car is speeding at high velocity\n"
     ]
    }
   ],
   "source": [
    "class Vehicle:\n",
    "    def drive(self):\n",
    "        print(\"Vehicle is being driven\")\n",
    "\n",
    "class Car(Vehicle):\n",
    "    def speed(self):\n",
    "        print(\"Car is speeding\")\n",
    "\n",
    "class SportsCar(Car):\n",
    "    def speed(self):\n",
    "        print(\"Sports car is speeding at high velocity\")\n",
    "\n",
    "sports_car = SportsCar()\n",
    "sports_car.drive()  # Output: Vehicle is being driven\n",
    "sports_car.speed()  # Output: Sports car is speeding at high velocity\n"
   ]
  },
  {
   "attachments": {},
   "cell_type": "markdown",
   "metadata": {},
   "source": [
    "Hierarchical Inheritance:\n",
    "Hierarchical inheritance is when multiple child classes inherit from a single parent class. It represents a one-to-many relationship.\n",
    "\n",
    "Example:"
   ]
  },
  {
   "cell_type": "code",
   "execution_count": 7,
   "metadata": {},
   "outputs": [
    {
     "name": "stdout",
     "output_type": "stream",
     "text": [
      "Calculating area of circle\n",
      "Calculating area of rectangle\n"
     ]
    }
   ],
   "source": [
    "class Shape:\n",
    "    def area(self):\n",
    "        print(\"Calculating area\")\n",
    "\n",
    "class Circle(Shape):\n",
    "    def area(self):\n",
    "        print(\"Calculating area of circle\")\n",
    "\n",
    "class Rectangle(Shape):\n",
    "    def area(self):\n",
    "        print(\"Calculating area of rectangle\")\n",
    "\n",
    "circle = Circle()\n",
    "circle.area()  # Output: Calculating area of circle\n",
    "\n",
    "rectangle = Rectangle()\n",
    "rectangle.area()  # Output: Calculating area of rectangle\n"
   ]
  },
  {
   "attachments": {},
   "cell_type": "markdown",
   "metadata": {},
   "source": [
    "In each example, the child classes inherit attributes and methods from their parent classes. They can override inherited methods to provide their own implementation or add additional functionality specific to the child class. Inheritance helps in creating a hierarchical structure, promoting code reuse, and organizing related classes."
   ]
  },
  {
   "cell_type": "code",
   "execution_count": null,
   "metadata": {},
   "outputs": [],
   "source": []
  }
 ],
 "metadata": {
  "kernelspec": {
   "display_name": "base",
   "language": "python",
   "name": "python3"
  },
  "language_info": {
   "codemirror_mode": {
    "name": "ipython",
    "version": 3
   },
   "file_extension": ".py",
   "mimetype": "text/x-python",
   "name": "python",
   "nbconvert_exporter": "python",
   "pygments_lexer": "ipython3",
   "version": "3.10.9"
  },
  "orig_nbformat": 4
 },
 "nbformat": 4,
 "nbformat_minor": 2
}
